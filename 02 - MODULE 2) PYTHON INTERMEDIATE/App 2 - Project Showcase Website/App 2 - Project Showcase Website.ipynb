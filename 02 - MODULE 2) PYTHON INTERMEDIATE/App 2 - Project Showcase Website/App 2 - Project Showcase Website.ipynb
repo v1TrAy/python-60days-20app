{
 "cells": [
  {
   "cell_type": "markdown",
   "id": "a35fe854",
   "metadata": {},
   "source": [
    "# MODULE 2 - PYTHON INTERMEDIATE"
   ]
  },
  {
   "cell_type": "markdown",
   "id": "329573ae",
   "metadata": {},
   "source": [
    "### Custom Input"
   ]
  },
  {
   "cell_type": "code",
   "execution_count": null,
   "id": "e30c408b",
   "metadata": {},
   "outputs": [],
   "source": [
    "import builtins\n",
    "\n",
    "\n",
    "# def input(prompt):\n",
    "#     x = builtins.input(prompt)\n",
    "#     print(prompt + x)\n",
    "#     return x\n",
    "\n",
    "RED = \"\\033[31m\"\n",
    "GREEN_ITALIC = \"\\033[32m\\033[3m\"\n",
    "RESET = \"\\033[0m\"\n",
    "\n",
    "\n",
    "def input(prompt):\n",
    "    x = builtins.input(RED + prompt + RESET)\n",
    "    print(f\"🔹{prompt} ➜ {GREEN_ITALIC}{x}{RESET}\")\n",
    "    return x"
   ]
  },
  {
   "cell_type": "markdown",
   "id": "4366da32",
   "metadata": {},
   "source": [
    "<hr style=\"border: none; height: 4px; background: linear-gradient(to right, #ff7e5f, #feb47b); border-radius: 2px;\">\n",
    "\n",
    "## Day 21: App 2 - Project Showcase Website  Part 1\n",
    "\n",
    "<hr style=\"border: none; height: 4px; background: linear-gradient(to right, #ff7e5f, #feb47b); border-radius: 2px;\">\n"
   ]
  }
 ],
 "metadata": {
  "kernelspec": {
   "display_name": ".venv",
   "language": "python",
   "name": "python3"
  },
  "language_info": {
   "codemirror_mode": {
    "name": "ipython",
    "version": 3
   },
   "file_extension": ".py",
   "mimetype": "text/x-python",
   "name": "python",
   "nbconvert_exporter": "python",
   "pygments_lexer": "ipython3",
   "version": "3.13.5"
  }
 },
 "nbformat": 4,
 "nbformat_minor": 5
}
